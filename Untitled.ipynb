{
 "cells": [
  {
   "cell_type": "code",
   "execution_count": 1,
   "metadata": {
    "ExecuteTime": {
     "end_time": "2021-03-18T12:32:11.059237Z",
     "start_time": "2021-03-18T12:32:11.057858Z"
    }
   },
   "outputs": [],
   "source": [
    "import os\n",
    "from functools import partial"
   ]
  },
  {
   "cell_type": "code",
   "execution_count": 2,
   "metadata": {
    "ExecuteTime": {
     "end_time": "2021-03-18T12:32:11.380422Z",
     "start_time": "2021-03-18T12:32:11.060171Z"
    }
   },
   "outputs": [],
   "source": [
    "import numpy as np\n",
    "import pandas as pd\n",
    "from tqdm import tqdm\n",
    "import matplotlib.pyplot as plt"
   ]
  },
  {
   "cell_type": "code",
   "execution_count": 3,
   "metadata": {
    "ExecuteTime": {
     "end_time": "2021-03-18T12:32:12.153555Z",
     "start_time": "2021-03-18T12:32:11.381485Z"
    }
   },
   "outputs": [
    {
     "name": "stderr",
     "output_type": "stream",
     "text": [
      "/nix/store/11vg0xg9f8cs9x8cbb9yp5vncdn7lki8-python3.8-torchaudio-0.7.2/lib/python3.8/site-packages/torchaudio/backend/utils.py:53: UserWarning: \"sox\" backend is being deprecated. The default backend will be changed to \"sox_io\" backend in 0.8.0 and \"sox\" backend will be removed in 0.9.0. Please migrate to \"sox_io\" backend. Please refer to https://github.com/pytorch/audio/issues/903 for the detail.\n",
      "  warnings.warn(\n"
     ]
    }
   ],
   "source": [
    "import torch\n",
    "import librosa\n",
    "import torchaudio\n",
    "import torch.nn as nn\n",
    "import torch.optim as optim\n",
    "from torch.utils.data import Dataset, DataLoader"
   ]
  },
  {
   "cell_type": "code",
   "execution_count": 4,
   "metadata": {
    "ExecuteTime": {
     "end_time": "2021-03-18T12:32:12.164813Z",
     "start_time": "2021-03-18T12:32:12.154509Z"
    }
   },
   "outputs": [
    {
     "data": {
      "text/html": [
       "<div>\n",
       "<style scoped>\n",
       "    .dataframe tbody tr th:only-of-type {\n",
       "        vertical-align: middle;\n",
       "    }\n",
       "\n",
       "    .dataframe tbody tr th {\n",
       "        vertical-align: top;\n",
       "    }\n",
       "\n",
       "    .dataframe thead th {\n",
       "        text-align: right;\n",
       "    }\n",
       "</style>\n",
       "<table border=\"1\" class=\"dataframe\">\n",
       "  <thead>\n",
       "    <tr style=\"text-align: right;\">\n",
       "      <th></th>\n",
       "      <th>filename</th>\n",
       "      <th>fold</th>\n",
       "      <th>target</th>\n",
       "      <th>category</th>\n",
       "      <th>esc10</th>\n",
       "      <th>src_file</th>\n",
       "      <th>take</th>\n",
       "    </tr>\n",
       "  </thead>\n",
       "  <tbody>\n",
       "    <tr>\n",
       "      <th>0</th>\n",
       "      <td>1-100032-A-0.wav</td>\n",
       "      <td>1</td>\n",
       "      <td>0</td>\n",
       "      <td>dog</td>\n",
       "      <td>True</td>\n",
       "      <td>100032</td>\n",
       "      <td>A</td>\n",
       "    </tr>\n",
       "    <tr>\n",
       "      <th>1</th>\n",
       "      <td>1-100038-A-14.wav</td>\n",
       "      <td>1</td>\n",
       "      <td>14</td>\n",
       "      <td>chirping_birds</td>\n",
       "      <td>False</td>\n",
       "      <td>100038</td>\n",
       "      <td>A</td>\n",
       "    </tr>\n",
       "    <tr>\n",
       "      <th>2</th>\n",
       "      <td>1-100210-A-36.wav</td>\n",
       "      <td>1</td>\n",
       "      <td>36</td>\n",
       "      <td>vacuum_cleaner</td>\n",
       "      <td>False</td>\n",
       "      <td>100210</td>\n",
       "      <td>A</td>\n",
       "    </tr>\n",
       "    <tr>\n",
       "      <th>3</th>\n",
       "      <td>1-100210-B-36.wav</td>\n",
       "      <td>1</td>\n",
       "      <td>36</td>\n",
       "      <td>vacuum_cleaner</td>\n",
       "      <td>False</td>\n",
       "      <td>100210</td>\n",
       "      <td>B</td>\n",
       "    </tr>\n",
       "    <tr>\n",
       "      <th>4</th>\n",
       "      <td>1-101296-A-19.wav</td>\n",
       "      <td>1</td>\n",
       "      <td>19</td>\n",
       "      <td>thunderstorm</td>\n",
       "      <td>False</td>\n",
       "      <td>101296</td>\n",
       "      <td>A</td>\n",
       "    </tr>\n",
       "  </tbody>\n",
       "</table>\n",
       "</div>"
      ],
      "text/plain": [
       "            filename  fold  target        category  esc10  src_file take\n",
       "0   1-100032-A-0.wav     1       0             dog   True    100032    A\n",
       "1  1-100038-A-14.wav     1      14  chirping_birds  False    100038    A\n",
       "2  1-100210-A-36.wav     1      36  vacuum_cleaner  False    100210    A\n",
       "3  1-100210-B-36.wav     1      36  vacuum_cleaner  False    100210    B\n",
       "4  1-101296-A-19.wav     1      19    thunderstorm  False    101296    A"
      ]
     },
     "execution_count": 4,
     "metadata": {},
     "output_type": "execute_result"
    }
   ],
   "source": [
    "DATASET_PATH = \"/home/arx7ti/datasets/ESC-50-master\"\n",
    "meta = pd.read_csv(os.path.join(DATASET_PATH, \"meta\", \"esc50.csv\"))\n",
    "meta.head()"
   ]
  },
  {
   "cell_type": "code",
   "execution_count": 5,
   "metadata": {
    "ExecuteTime": {
     "end_time": "2021-03-18T12:32:12.169258Z",
     "start_time": "2021-03-18T12:32:12.165651Z"
    }
   },
   "outputs": [],
   "source": [
    "categories = meta[[\"category\", \"target\"]].drop_duplicates().set_index(\"target\")\n",
    "# print(categories)"
   ]
  },
  {
   "cell_type": "code",
   "execution_count": 6,
   "metadata": {
    "ExecuteTime": {
     "end_time": "2021-03-18T12:32:12.209948Z",
     "start_time": "2021-03-18T12:32:12.170146Z"
    },
    "scrolled": false
   },
   "outputs": [],
   "source": [
    "TRAIN_FOLDS = [1, 2, 3]\n",
    "VALIDATION_FOLDS = [4]\n",
    "TEST_FOLDS = [5]\n",
    "BATCH_SIZE = 32\n",
    "\n",
    "DEVICE = \"cuda:0\" if torch.cuda.is_available() else \"cpu\"\n",
    "\n",
    "N_FFT = 1024\n",
    "HOP_LENGTH = 320\n",
    "N_MELS = 64\n",
    "SAMPLING_RATE = 40000"
   ]
  },
  {
   "cell_type": "code",
   "execution_count": 7,
   "metadata": {
    "ExecuteTime": {
     "end_time": "2021-03-18T12:32:12.217083Z",
     "start_time": "2021-03-18T12:32:12.212689Z"
    }
   },
   "outputs": [],
   "source": [
    "meta_train = meta[meta.fold.isin(TRAIN_FOLDS)].reset_index()\n",
    "meta_validation = meta[meta.fold.isin(VALIDATION_FOLDS)].reset_index()\n",
    "meta_test = meta[meta.fold.isin(TEST_FOLDS)].reset_index()"
   ]
  },
  {
   "cell_type": "code",
   "execution_count": 8,
   "metadata": {
    "ExecuteTime": {
     "end_time": "2021-03-18T12:32:12.222489Z",
     "start_time": "2021-03-18T12:32:12.217858Z"
    }
   },
   "outputs": [],
   "source": [
    "def collate(batch, n_fft=256, hop_length=128, n_mels=128, downsampling=8000):\n",
    "    to_spectrogram = torchaudio.transforms.MelSpectrogram(\n",
    "        sample_rate=downsampling, n_fft=n_fft, hop_length=hop_length, n_mels=n_mels, normalized=True)\n",
    "    to_db = torchaudio.transforms.AmplitudeToDB()\n",
    "\n",
    "    data = list(zip(*batch))\n",
    "    audios = torch.stack(data[0], 0).to(dtype=torch.float32)\n",
    "#     audios = (audios-audios.mean())/audios.std()\n",
    "    targets = torch.stack(data[1], 0)\n",
    "\n",
    "    spectrograms = to_spectrogram(audios)\n",
    "    spectrograms = to_db(spectrograms)\n",
    "    return spectrograms, targets\n",
    "\n",
    "\n",
    "class ESC50(Dataset):\n",
    "    def __init__(self, meta, dataset_path, total_categories, downsampling=8000):\n",
    "        self.meta = meta\n",
    "        self.dataset_path = dataset_path\n",
    "        self.downsampling = downsampling\n",
    "        self.total_categories = total_categories\n",
    "\n",
    "    def __getitem__(self, idx):\n",
    "        row = self.meta.iloc[idx]\n",
    "        filename = row[\"filename\"]\n",
    "        filepath = os.path.join(self.dataset_path, \"audio\", filename)\n",
    "        audio, sampling_rate = torchaudio.load(filepath)\n",
    "#         audio = (audio-audio.mean())/audio.std()\n",
    "        factor = sampling_rate//self.downsampling\n",
    "        audio = audio[:, ::factor]\n",
    "\n",
    "        target = torch.zeros(self.total_categories, dtype=torch.float32)\n",
    "        target[row[\"target\"]] = 1\n",
    "        return audio, target\n",
    "\n",
    "    def __len__(self):\n",
    "        return len(self.meta)"
   ]
  },
  {
   "cell_type": "code",
   "execution_count": 9,
   "metadata": {
    "ExecuteTime": {
     "end_time": "2021-03-18T12:32:12.229144Z",
     "start_time": "2021-03-18T12:32:12.223359Z"
    }
   },
   "outputs": [],
   "source": [
    "train_dataset = ESC50(meta_train, DATASET_PATH, len(\n",
    "    categories), downsampling=SAMPLING_RATE)\n",
    "validation_dataset = ESC50(meta_validation, DATASET_PATH, len(\n",
    "    categories), downsampling=SAMPLING_RATE)\n",
    "test_dataset = ESC50(meta_test, DATASET_PATH, len(\n",
    "    categories), downsampling=SAMPLING_RATE)\n",
    "\n",
    "collate_fn = partial(collate, n_fft=N_FFT,\n",
    "                     hop_length=HOP_LENGTH, n_mels=N_MELS, downsampling=SAMPLING_RATE)\n",
    "\n",
    "train_loader = DataLoader(train_dataset, batch_size=BATCH_SIZE,\n",
    "                          collate_fn=collate_fn, shuffle=True, pin_memory=True)\n",
    "validation_loader = DataLoader(\n",
    "    validation_dataset, batch_size=BATCH_SIZE, collate_fn=collate_fn, shuffle=True)\n",
    "test_loader = DataLoader(test_dataset, batch_size=1,\n",
    "                         collate_fn=collate_fn, shuffle=True)"
   ]
  },
  {
   "cell_type": "code",
   "execution_count": 10,
   "metadata": {
    "ExecuteTime": {
     "end_time": "2021-03-18T12:32:12.235684Z",
     "start_time": "2021-03-18T12:32:12.229872Z"
    }
   },
   "outputs": [],
   "source": [
    "def get_category(target, categories):\n",
    "    return categories.iloc[np.where(target == 1)].category.values\n",
    "\n",
    "\n",
    "def plot_spectrogram(spectrogram, target, categories, duration=5, cmap=\"viridis\", downsampling=8000):\n",
    "    category = get_category(target, categories).item()\n",
    "    frames = np.linspace(0, duration, spectrogram.shape[-1])\n",
    "    freqs = np.arange(spectrogram.shape[0])*downsampling/spectrogram.shape[0]\n",
    "    plt.title(category)\n",
    "    plt.pcolormesh(frames, freqs, spectrogram, cmap=cmap)\n",
    "    plt.xlabel(\"Time, s\")\n",
    "    plt.ylabel(\"Frequency, Hz\")\n",
    "    plt.show()\n",
    "\n",
    "\n",
    "def track_statistics(mini_batch, means, stds):\n",
    "    means.append(mini_batch.mean(dim=(0, 2, 3)))\n",
    "    stds.append(mini_batch.std(dim=(0, 2, 3)))\n",
    "    return means, stds"
   ]
  },
  {
   "cell_type": "code",
   "execution_count": 11,
   "metadata": {
    "ExecuteTime": {
     "end_time": "2021-03-18T12:32:14.357433Z",
     "start_time": "2021-03-18T12:32:12.236384Z"
    },
    "scrolled": false
   },
   "outputs": [
    {
     "name": "stderr",
     "output_type": "stream",
     "text": [
      "/nix/store/65jl19b4b22vql3an2b3bdv8xb78q6fd-python3.8-pytorch-1.7.1/lib/python3.8/site-packages/torch/functional.py:515: UserWarning: stft will require the return_complex parameter be explicitly  specified in a future PyTorch release. Use return_complex=False  to preserve the current behavior or return_complex=True to return  a complex output. (Triggered internally at  /pytorch/aten/src/ATen/native/SpectralOps.cpp:653.)\n",
      "  return _VF.stft(input, n_fft, hop_length, win_length, window,  # type: ignore\n",
      "/nix/store/65jl19b4b22vql3an2b3bdv8xb78q6fd-python3.8-pytorch-1.7.1/lib/python3.8/site-packages/torch/functional.py:515: UserWarning: The function torch.rfft is deprecated and will be removed in a future PyTorch release. Use the new torch.fft module functions, instead, by importing torch.fft and calling torch.fft.fft or torch.fft.rfft. (Triggered internally at  /pytorch/aten/src/ATen/native/SpectralOps.cpp:590.)\n",
      "  return _VF.stft(input, n_fft, hop_length, win_length, window,  # type: ignore\n"
     ]
    },
    {
     "name": "stdout",
     "output_type": "stream",
     "text": [
      "torch.Size([32, 1, 64, 690])\n",
      "tensor(-100.) tensor(22.8356)\n"
     ]
    },
    {
     "name": "stderr",
     "output_type": "stream",
     "text": [
      "<ipython-input-10-2c70f55b9472>:10: MatplotlibDeprecationWarning: shading='flat' when X and Y have the same dimensions as C is deprecated since 3.3.  Either specify the corners of the quadrilaterals with X and Y, or pass shading='auto', 'nearest' or 'gouraud', or set rcParams['pcolor.shading'].  This will become an error two minor releases later.\n",
      "  plt.pcolormesh(frames, freqs, spectrogram, cmap=cmap)\n"
     ]
    },
    {
     "data": {
      "image/png": "[encoded data removed]",
      "text/plain": [
       "<Figure size 432x288 with 1 Axes>"
      ]
     },
     "metadata": {
      "needs_background": "light"
     },
     "output_type": "display_data"
    }
   ],
   "source": [
    "x, y = next(iter(train_loader))\n",
    "print(x.shape)\n",
    "print(x.min(),x.max())\n",
    "plot_spectrogram(x[0][0], y[0], categories, downsampling=SAMPLING_RATE)\n",
    "# n_frames = x.shape[-1]\n",
    "# print(n_frames)"
   ]
  },
  {
   "cell_type": "code",
   "execution_count": 12,
   "metadata": {
    "ExecuteTime": {
     "end_time": "2021-03-18T11:33:36.020445Z",
     "start_time": "2021-03-18T11:33:31.155620Z"
    },
    "deletable": false,
    "editable": false,
    "run_control": {
     "frozen": true
    },
    "scrolled": false
   },
   "outputs": [
    {
     "name": "stderr",
     "output_type": "stream",
     "text": [
      "100%|██████████| 38/38 [00:04<00:00,  7.82it/s]"
     ]
    },
    {
     "name": "stdout",
     "output_type": "stream",
     "text": [
      "-23.934534 32.833813\n"
     ]
    },
    {
     "name": "stderr",
     "output_type": "stream",
     "text": [
      "\n"
     ]
    }
   ],
   "source": [
    "means, stds = [], []\n",
    "for mini_batch, _ in tqdm(iter(train_loader)):\n",
    "    means, stds = track_statistics(mini_batch, means, stds)\n",
    "mean = np.mean(means)\n",
    "std = np.mean(stds)\n",
    "print(mean, std)"
   ]
  },
  {
   "cell_type": "code",
   "execution_count": 12,
   "metadata": {
    "ExecuteTime": {
     "end_time": "2021-03-18T12:32:14.362661Z",
     "start_time": "2021-03-18T12:32:14.358295Z"
    }
   },
   "outputs": [],
   "source": [
    "def init_layer(layer):\n",
    "    if isinstance(layer, (nn.Conv2d, nn.Linear)):\n",
    "        nn.init.xavier_uniform_(layer.weight)\n",
    "        if hasattr(layer, 'bias'):\n",
    "            if layer.bias is not None:\n",
    "                layer.bias.data.fill_(0.)\n",
    "\n",
    "    elif isinstance(layer, nn.BatchNorm2d):\n",
    "        layer.bias.data.fill_(0.)\n",
    "        layer.weight.data.fill_(1.)\n",
    "\n",
    "\n",
    "class ConvBlock(nn.Module):\n",
    "    def __init__(self, cin, cout):\n",
    "        super().__init__()\n",
    "        self.conv1 = nn.Conv2d(cin, cout, 3, padding=1, bias=False)\n",
    "        self.conv2 = nn.Conv2d(cout, cout, 3, padding=1, bias=False)\n",
    "        self.bnorm1 = nn.BatchNorm2d(cout)\n",
    "        self.bnorm2 = nn.BatchNorm2d(cout)\n",
    "\n",
    "        init_layer(self.conv1)\n",
    "        init_layer(self.conv2)\n",
    "        init_layer(self.bnorm1)\n",
    "        init_layer(self.bnorm2)\n",
    "\n",
    "    def forward(self, x):\n",
    "        x = nn.functional.relu_(self.bnorm1(self.conv1(x)))\n",
    "        x = nn.functional.relu_(self.bnorm2(self.conv2(x)))\n",
    "        x = nn.functional.avg_pool2d(x, 2)\n",
    "        return x"
   ]
  },
  {
   "cell_type": "code",
   "execution_count": 13,
   "metadata": {
    "ExecuteTime": {
     "end_time": "2021-03-18T12:32:14.376345Z",
     "start_time": "2021-03-18T12:32:14.363410Z"
    }
   },
   "outputs": [],
   "source": [
    "class ESC50CNN10(nn.Module):\n",
    "    def __init__(self, total_categories):\n",
    "        super().__init__()\n",
    "\n",
    "        self.bnorm0 = nn.BatchNorm2d(64)\n",
    "\n",
    "        self.backbone = nn.Sequential(\n",
    "            ConvBlock(1, 64),\n",
    "            nn.Dropout(0.2),\n",
    "            ConvBlock(64, 128),\n",
    "            nn.Dropout(0.2),\n",
    "            ConvBlock(128, 256),\n",
    "            nn.Dropout(0.2),\n",
    "            ConvBlock(256, 512),\n",
    "            nn.Dropout(0.2),\n",
    "        )\n",
    "\n",
    "        self.embeddings = nn.Linear(512, 512)\n",
    "        self.head = nn.Linear(512, total_categories)\n",
    "\n",
    "        init_layer(self.embeddings)\n",
    "        init_layer(self.head)\n",
    "        init_layer(self.bnorm0)\n",
    "\n",
    "    def forward(self, x):\n",
    "        x = x.transpose(2, 3)\n",
    "#         print(x.shape)\n",
    "        x = x.transpose(1, 3).contiguous()\n",
    "#         x = x.permute(0, 2, 3, 1).contiguous()\n",
    "        x = self.bnorm0(x)\n",
    "#         x = x.permute(0, 3, 2, 1)\n",
    "        x = x.transpose(1, 3)\n",
    "\n",
    "        x = self.backbone(x)\n",
    "        x = x.mean(dim=3)\n",
    "#         print(x.shape)\n",
    "\n",
    "        averaged = x.mean(dim=2)\n",
    "        maximized = x.amax(dim=2)\n",
    "        x = (averaged+maximized)\n",
    "        x = nn.functional.relu_(nn.functional.dropout(\n",
    "            x, 0.5, training=self.training))\n",
    "#         print(x.shape)\n",
    "\n",
    "        x = nn.functional.relu_(nn.functional.dropout(\n",
    "            self.embeddings(x), 0.5, training=self.training))\n",
    "        x = self.head(x)\n",
    "\n",
    "        return nn.functional.softmax(x, dim=-1)"
   ]
  },
  {
   "cell_type": "code",
   "execution_count": 14,
   "metadata": {
    "ExecuteTime": {
     "end_time": "2021-03-18T12:32:14.383987Z",
     "start_time": "2021-03-18T12:32:14.377141Z"
    }
   },
   "outputs": [
    {
     "data": {
      "text/plain": [
       "True"
      ]
     },
     "execution_count": 14,
     "metadata": {},
     "output_type": "execute_result"
    }
   ],
   "source": [
    "x.permute(0, 2, 3, 1).permute(0, 3, 1, 2).shape == x.shape"
   ]
  },
  {
   "cell_type": "code",
   "execution_count": 15,
   "metadata": {
    "ExecuteTime": {
     "end_time": "2021-03-18T12:32:14.435191Z",
     "start_time": "2021-03-18T12:32:14.385050Z"
    },
    "scrolled": false
   },
   "outputs": [],
   "source": [
    "model = ESC50CNN10(len(categories))\n",
    "model = nn.DataParallel(model)\n",
    "model.to(DEVICE);\n",
    "# print()\n",
    "# model.cpu()\n",
    "# print(model)\n",
    "# model.module(x).shape"
   ]
  },
  {
   "cell_type": "code",
   "execution_count": 16,
   "metadata": {
    "ExecuteTime": {
     "end_time": "2021-03-18T12:32:14.439998Z",
     "start_time": "2021-03-18T12:32:14.436438Z"
    }
   },
   "outputs": [],
   "source": [
    "EPOCHS = 120\n",
    "LEARNING_RATE = 1e-3\n",
    "optimizer = optim.AdamW(model.parameters(), lr=LEARNING_RATE, betas=(\n",
    "    0.9, 0.9), eps=1e-08,weight_decay=0., amsgrad=True)\n",
    "scheduler = optim.lr_scheduler.OneCycleLR(\n",
    "    optimizer, max_lr=LEARNING_RATE, epochs=EPOCHS, steps_per_epoch=len(train_loader))\n",
    "loss_fn = nn.functional.binary_cross_entropy"
   ]
  },
  {
   "cell_type": "code",
   "execution_count": 17,
   "metadata": {
    "ExecuteTime": {
     "end_time": "2021-03-18T12:32:14.444761Z",
     "start_time": "2021-03-18T12:32:14.441190Z"
    }
   },
   "outputs": [],
   "source": [
    "from sklearn.metrics import accuracy_score, f1_score, average_precision_score"
   ]
  },
  {
   "cell_type": "code",
   "execution_count": 18,
   "metadata": {
    "ExecuteTime": {
     "end_time": "2021-03-18T12:51:36.708321Z",
     "start_time": "2021-03-18T12:32:14.445561Z"
    },
    "scrolled": false
   },
   "outputs": [
    {
     "name": "stdout",
     "output_type": "stream",
     "text": [
      "Epoch = 0; Train loss = 0.1498; Val loss = 0.1003; Train AP = 0.1083; Val AP = 0.1176\n",
      "Epoch = 1; Train loss = 0.1291; Val loss = 0.0930; Train AP = 0.1290; Val AP = 0.2103\n",
      "Epoch = 2; Train loss = 0.1212; Val loss = 0.0922; Train AP = 0.1199; Val AP = 0.2094\n",
      "Epoch = 3; Train loss = 0.1158; Val loss = 0.0912; Train AP = 0.1166; Val AP = 0.2325\n",
      "Epoch = 4; Train loss = 0.1088; Val loss = 0.0895; Train AP = 0.1281; Val AP = 0.2659\n",
      "Epoch = 5; Train loss = 0.1050; Val loss = 0.0891; Train AP = 0.1474; Val AP = 0.2750\n",
      "Epoch = 6; Train loss = 0.1022; Val loss = 0.0883; Train AP = 0.1512; Val AP = 0.3003\n",
      "Epoch = 7; Train loss = 0.1003; Val loss = 0.0877; Train AP = 0.1463; Val AP = 0.3029\n",
      "Epoch = 8; Train loss = 0.0973; Val loss = 0.0858; Train AP = 0.1656; Val AP = 0.3265\n",
      "Epoch = 9; Train loss = 0.0966; Val loss = 0.0844; Train AP = 0.1690; Val AP = 0.3716\n",
      "Epoch = 10; Train loss = 0.0941; Val loss = 0.0832; Train AP = 0.1927; Val AP = 0.3517\n",
      "Epoch = 11; Train loss = 0.0925; Val loss = 0.0829; Train AP = 0.2126; Val AP = 0.3228\n",
      "Epoch = 12; Train loss = 0.0920; Val loss = 0.0803; Train AP = 0.2147; Val AP = 0.3945\n",
      "Epoch = 13; Train loss = 0.0900; Val loss = 0.0793; Train AP = 0.2459; Val AP = 0.3934\n",
      "Epoch = 14; Train loss = 0.0893; Val loss = 0.0777; Train AP = 0.2330; Val AP = 0.4462\n",
      "Epoch = 15; Train loss = 0.0883; Val loss = 0.0765; Train AP = 0.2625; Val AP = 0.4482\n",
      "Epoch = 16; Train loss = 0.0857; Val loss = 0.0765; Train AP = 0.2779; Val AP = 0.4067\n",
      "Epoch = 17; Train loss = 0.0843; Val loss = 0.0718; Train AP = 0.3010; Val AP = 0.4846\n",
      "Epoch = 18; Train loss = 0.0819; Val loss = 0.0758; Train AP = 0.3259; Val AP = 0.4321\n",
      "Epoch = 19; Train loss = 0.0810; Val loss = 0.0708; Train AP = 0.3387; Val AP = 0.4645\n",
      "Epoch = 20; Train loss = 0.0826; Val loss = 0.0714; Train AP = 0.3141; Val AP = 0.5242\n",
      "Epoch = 21; Train loss = 0.0790; Val loss = 0.0660; Train AP = 0.3549; Val AP = 0.5527\n",
      "Epoch = 22; Train loss = 0.0788; Val loss = 0.0747; Train AP = 0.3572; Val AP = 0.4346\n",
      "Epoch = 23; Train loss = 0.0766; Val loss = 0.0639; Train AP = 0.3842; Val AP = 0.5702\n",
      "Epoch = 24; Train loss = 0.0734; Val loss = 0.0695; Train AP = 0.4178; Val AP = 0.4898\n",
      "Epoch = 25; Train loss = 0.0721; Val loss = 0.0614; Train AP = 0.4428; Val AP = 0.5721\n",
      "Epoch = 26; Train loss = 0.0705; Val loss = 0.0596; Train AP = 0.4508; Val AP = 0.6157\n",
      "Epoch = 27; Train loss = 0.0700; Val loss = 0.0638; Train AP = 0.4499; Val AP = 0.5218\n",
      "Epoch = 28; Train loss = 0.0673; Val loss = 0.0584; Train AP = 0.4676; Val AP = 0.5665\n",
      "Epoch = 29; Train loss = 0.0667; Val loss = 0.0607; Train AP = 0.4869; Val AP = 0.5586\n",
      "Epoch = 30; Train loss = 0.0656; Val loss = 0.0544; Train AP = 0.4892; Val AP = 0.6305\n",
      "Epoch = 31; Train loss = 0.0617; Val loss = 0.0738; Train AP = 0.5328; Val AP = 0.4876\n",
      "Epoch = 32; Train loss = 0.0629; Val loss = 0.0612; Train AP = 0.5243; Val AP = 0.5688\n",
      "Epoch = 33; Train loss = 0.0598; Val loss = 0.0550; Train AP = 0.5462; Val AP = 0.6056\n",
      "Epoch = 34; Train loss = 0.0596; Val loss = 0.0520; Train AP = 0.5545; Val AP = 0.6106\n",
      "Epoch = 35; Train loss = 0.0585; Val loss = 0.0521; Train AP = 0.5646; Val AP = 0.6614\n",
      "Epoch = 36; Train loss = 0.0550; Val loss = 0.0499; Train AP = 0.5965; Val AP = 0.6814\n",
      "Epoch = 37; Train loss = 0.0519; Val loss = 0.0555; Train AP = 0.6161; Val AP = 0.6082\n",
      "Epoch = 38; Train loss = 0.0524; Val loss = 0.0491; Train AP = 0.6245; Val AP = 0.6635\n",
      "Epoch = 39; Train loss = 0.0516; Val loss = 0.0655; Train AP = 0.6305; Val AP = 0.5780\n",
      "Epoch = 40; Train loss = 0.0515; Val loss = 0.0468; Train AP = 0.6307; Val AP = 0.6658\n",
      "Epoch = 41; Train loss = 0.0508; Val loss = 0.0517; Train AP = 0.6359; Val AP = 0.6453\n",
      "Epoch = 42; Train loss = 0.0497; Val loss = 0.0463; Train AP = 0.6457; Val AP = 0.6980\n",
      "Epoch = 43; Train loss = 0.0477; Val loss = 0.0563; Train AP = 0.6647; Val AP = 0.5947\n",
      "Epoch = 44; Train loss = 0.0483; Val loss = 0.0465; Train AP = 0.6579; Val AP = 0.6816\n",
      "Epoch = 45; Train loss = 0.0454; Val loss = 0.0518; Train AP = 0.6926; Val AP = 0.6434\n",
      "Epoch = 46; Train loss = 0.0457; Val loss = 0.0437; Train AP = 0.6851; Val AP = 0.6864\n",
      "Epoch = 47; Train loss = 0.0456; Val loss = 0.0375; Train AP = 0.6887; Val AP = 0.7526\n",
      "Epoch = 48; Train loss = 0.0420; Val loss = 0.0360; Train AP = 0.7217; Val AP = 0.7707\n",
      "Epoch = 49; Train loss = 0.0422; Val loss = 0.0349; Train AP = 0.7089; Val AP = 0.7699\n",
      "Epoch = 50; Train loss = 0.0429; Val loss = 0.0391; Train AP = 0.7145; Val AP = 0.7409\n",
      "Epoch = 51; Train loss = 0.0408; Val loss = 0.0371; Train AP = 0.7264; Val AP = 0.7487\n",
      "Epoch = 52; Train loss = 0.0378; Val loss = 0.0355; Train AP = 0.7443; Val AP = 0.7811\n",
      "Epoch = 53; Train loss = 0.0387; Val loss = 0.0409; Train AP = 0.7463; Val AP = 0.7286\n",
      "Epoch = 54; Train loss = 0.0389; Val loss = 0.0396; Train AP = 0.7284; Val AP = 0.7437\n",
      "Epoch = 55; Train loss = 0.0379; Val loss = 0.0393; Train AP = 0.7468; Val AP = 0.7517\n",
      "Epoch = 56; Train loss = 0.0379; Val loss = 0.0395; Train AP = 0.7534; Val AP = 0.7290\n",
      "Epoch = 57; Train loss = 0.0355; Val loss = 0.0368; Train AP = 0.7697; Val AP = 0.7590\n",
      "Epoch = 58; Train loss = 0.0348; Val loss = 0.0329; Train AP = 0.7717; Val AP = 0.7872\n",
      "Epoch = 59; Train loss = 0.0345; Val loss = 0.0431; Train AP = 0.7731; Val AP = 0.7214\n",
      "Epoch = 60; Train loss = 0.0342; Val loss = 0.0326; Train AP = 0.7784; Val AP = 0.8016\n",
      "Epoch = 61; Train loss = 0.0327; Val loss = 0.0367; Train AP = 0.7840; Val AP = 0.7548\n",
      "Epoch = 62; Train loss = 0.0332; Val loss = 0.0430; Train AP = 0.7903; Val AP = 0.7086\n",
      "Epoch = 63; Train loss = 0.0332; Val loss = 0.0303; Train AP = 0.7792; Val AP = 0.8058\n",
      "Epoch = 64; Train loss = 0.0328; Val loss = 0.0332; Train AP = 0.7815; Val AP = 0.8017\n",
      "Epoch = 65; Train loss = 0.0308; Val loss = 0.0313; Train AP = 0.8081; Val AP = 0.8099\n",
      "Epoch = 66; Train loss = 0.0294; Val loss = 0.0314; Train AP = 0.8138; Val AP = 0.8037\n",
      "Epoch = 67; Train loss = 0.0293; Val loss = 0.0385; Train AP = 0.8132; Val AP = 0.7628\n",
      "Epoch = 68; Train loss = 0.0291; Val loss = 0.0303; Train AP = 0.8207; Val AP = 0.8136\n",
      "Epoch = 69; Train loss = 0.0294; Val loss = 0.0305; Train AP = 0.8184; Val AP = 0.8155\n",
      "Epoch = 70; Train loss = 0.0286; Val loss = 0.0309; Train AP = 0.8194; Val AP = 0.8166\n",
      "Epoch = 71; Train loss = 0.0271; Val loss = 0.0299; Train AP = 0.8347; Val AP = 0.8288\n",
      "Epoch = 72; Train loss = 0.0282; Val loss = 0.0271; Train AP = 0.8300; Val AP = 0.8385\n",
      "Epoch = 73; Train loss = 0.0267; Val loss = 0.0277; Train AP = 0.8313; Val AP = 0.8329\n",
      "Epoch = 74; Train loss = 0.0268; Val loss = 0.0373; Train AP = 0.8403; Val AP = 0.7646\n",
      "Epoch = 75; Train loss = 0.0248; Val loss = 0.0285; Train AP = 0.8494; Val AP = 0.8339\n",
      "Epoch = 76; Train loss = 0.0255; Val loss = 0.0310; Train AP = 0.8485; Val AP = 0.8010\n",
      "Epoch = 77; Train loss = 0.0231; Val loss = 0.0280; Train AP = 0.8630; Val AP = 0.8292\n",
      "Epoch = 78; Train loss = 0.0226; Val loss = 0.0315; Train AP = 0.8661; Val AP = 0.8056\n",
      "Epoch = 79; Train loss = 0.0226; Val loss = 0.0301; Train AP = 0.8630; Val AP = 0.8227\n",
      "Epoch = 80; Train loss = 0.0215; Val loss = 0.0278; Train AP = 0.8682; Val AP = 0.8400\n",
      "Epoch = 81; Train loss = 0.0232; Val loss = 0.0274; Train AP = 0.8689; Val AP = 0.8361\n",
      "Epoch = 82; Train loss = 0.0218; Val loss = 0.0251; Train AP = 0.8614; Val AP = 0.8491\n",
      "Epoch = 83; Train loss = 0.0205; Val loss = 0.0289; Train AP = 0.8728; Val AP = 0.8401\n",
      "Epoch = 84; Train loss = 0.0208; Val loss = 0.0277; Train AP = 0.8791; Val AP = 0.8313\n",
      "Epoch = 85; Train loss = 0.0209; Val loss = 0.0286; Train AP = 0.8713; Val AP = 0.8298\n",
      "Epoch = 86; Train loss = 0.0202; Val loss = 0.0301; Train AP = 0.8854; Val AP = 0.8197\n",
      "Epoch = 87; Train loss = 0.0190; Val loss = 0.0284; Train AP = 0.8897; Val AP = 0.8207\n",
      "Epoch = 88; Train loss = 0.0186; Val loss = 0.0268; Train AP = 0.8919; Val AP = 0.8332\n",
      "Epoch = 89; Train loss = 0.0188; Val loss = 0.0277; Train AP = 0.8923; Val AP = 0.8337\n",
      "Epoch = 90; Train loss = 0.0193; Val loss = 0.0243; Train AP = 0.8834; Val AP = 0.8486\n",
      "Epoch = 91; Train loss = 0.0194; Val loss = 0.0279; Train AP = 0.8837; Val AP = 0.8388\n",
      "Epoch = 92; Train loss = 0.0182; Val loss = 0.0254; Train AP = 0.8922; Val AP = 0.8459\n",
      "Epoch = 93; Train loss = 0.0181; Val loss = 0.0278; Train AP = 0.8921; Val AP = 0.8377\n",
      "Epoch = 94; Train loss = 0.0189; Val loss = 0.0242; Train AP = 0.8927; Val AP = 0.8551\n"
     ]
    },
    {
     "name": "stdout",
     "output_type": "stream",
     "text": [
      "Epoch = 95; Train loss = 0.0186; Val loss = 0.0260; Train AP = 0.8906; Val AP = 0.8487\n",
      "Epoch = 96; Train loss = 0.0171; Val loss = 0.0252; Train AP = 0.9033; Val AP = 0.8590\n",
      "Epoch = 97; Train loss = 0.0164; Val loss = 0.0248; Train AP = 0.9058; Val AP = 0.8603\n",
      "Epoch = 98; Train loss = 0.0158; Val loss = 0.0263; Train AP = 0.9106; Val AP = 0.8429\n",
      "Epoch = 99; Train loss = 0.0158; Val loss = 0.0239; Train AP = 0.9125; Val AP = 0.8713\n",
      "Epoch = 100; Train loss = 0.0153; Val loss = 0.0241; Train AP = 0.9148; Val AP = 0.8575\n",
      "Epoch = 101; Train loss = 0.0148; Val loss = 0.0242; Train AP = 0.9244; Val AP = 0.8636\n",
      "Epoch = 102; Train loss = 0.0167; Val loss = 0.0245; Train AP = 0.9010; Val AP = 0.8578\n",
      "Epoch = 103; Train loss = 0.0142; Val loss = 0.0238; Train AP = 0.9153; Val AP = 0.8632\n",
      "Epoch = 104; Train loss = 0.0160; Val loss = 0.0260; Train AP = 0.9138; Val AP = 0.8527\n",
      "Epoch = 105; Train loss = 0.0148; Val loss = 0.0255; Train AP = 0.9151; Val AP = 0.8454\n",
      "Epoch = 106; Train loss = 0.0150; Val loss = 0.0265; Train AP = 0.9185; Val AP = 0.8548\n",
      "Epoch = 107; Train loss = 0.0145; Val loss = 0.0231; Train AP = 0.9206; Val AP = 0.8635\n",
      "Epoch = 108; Train loss = 0.0142; Val loss = 0.0237; Train AP = 0.9186; Val AP = 0.8694\n",
      "Epoch = 109; Train loss = 0.0129; Val loss = 0.0225; Train AP = 0.9265; Val AP = 0.8705\n",
      "Epoch = 110; Train loss = 0.0134; Val loss = 0.0234; Train AP = 0.9226; Val AP = 0.8671\n",
      "Epoch = 111; Train loss = 0.0141; Val loss = 0.0240; Train AP = 0.9221; Val AP = 0.8676\n",
      "Epoch = 112; Train loss = 0.0132; Val loss = 0.0246; Train AP = 0.9256; Val AP = 0.8733\n",
      "Epoch = 113; Train loss = 0.0133; Val loss = 0.0234; Train AP = 0.9322; Val AP = 0.8657\n",
      "Epoch = 114; Train loss = 0.0142; Val loss = 0.0246; Train AP = 0.9232; Val AP = 0.8653\n",
      "Epoch = 115; Train loss = 0.0135; Val loss = 0.0248; Train AP = 0.9262; Val AP = 0.8626\n",
      "Epoch = 116; Train loss = 0.0131; Val loss = 0.0244; Train AP = 0.9338; Val AP = 0.8643\n",
      "Epoch = 117; Train loss = 0.0145; Val loss = 0.0241; Train AP = 0.9262; Val AP = 0.8688\n",
      "Epoch = 118; Train loss = 0.0141; Val loss = 0.0238; Train AP = 0.9250; Val AP = 0.8658\n",
      "Epoch = 119; Train loss = 0.0137; Val loss = 0.0228; Train AP = 0.9193; Val AP = 0.8713\n"
     ]
    },
    {
     "data": {
      "text/plain": [
       "0"
      ]
     },
     "execution_count": 18,
     "metadata": {},
     "output_type": "execute_result"
    }
   ],
   "source": [
    "train_loss_curve = []\n",
    "validation_loss_curve = []\n",
    "train_ap_curve = []\n",
    "validation_ap_curve = [0]\n",
    "for epoch in range(EPOCHS):\n",
    "    # Train\n",
    "    true = []\n",
    "    preds = []\n",
    "    model.train()\n",
    "    train_running_loss = 0\n",
    "    for spectrograms, targets in iter(train_loader):\n",
    "        spectrograms, targets = spectrograms.to(DEVICE), targets.to(DEVICE)\n",
    "\n",
    "        outputs = model(spectrograms)\n",
    "        loss = loss_fn(outputs, targets)\n",
    "\n",
    "        loss.backward()\n",
    "        optimizer.step()\n",
    "        optimizer.zero_grad()\n",
    "\n",
    "        scheduler.step()\n",
    "\n",
    "        train_running_loss += loss.item()\n",
    "\n",
    "        outputs = outputs.transpose(0, 1).detach().cpu().numpy()\n",
    "        targets = targets.transpose(0, 1).cpu().numpy()\n",
    "\n",
    "        true.append(targets)\n",
    "        preds.append(outputs)\n",
    "\n",
    "    true = np.concatenate(true, axis=1)\n",
    "    preds = np.concatenate(preds, axis=1)\n",
    "    train_ap_curve.append(average_precision_score(true, preds))\n",
    "\n",
    "    # Validation\n",
    "    true = []\n",
    "    preds = []\n",
    "    model.eval()\n",
    "    with torch.no_grad():\n",
    "        validation_running_loss = 0\n",
    "        for spectrograms, targets in iter(validation_loader):\n",
    "            spectrograms, targets = spectrograms.to(DEVICE), targets.to(DEVICE)\n",
    "\n",
    "            outputs = model(spectrograms)\n",
    "            loss = loss_fn(outputs, targets)\n",
    "\n",
    "            validation_running_loss += loss.item()\n",
    "\n",
    "            outputs = outputs.transpose(0, 1).detach().cpu().numpy()\n",
    "            targets = targets.transpose(0, 1).cpu().numpy()\n",
    "\n",
    "            true.append(targets)\n",
    "            preds.append(outputs)\n",
    "\n",
    "    true = np.concatenate(true, axis=1)\n",
    "    preds = np.concatenate(preds, axis=1)\n",
    "    validation_ap_curve.append(average_precision_score(true, preds))\n",
    "\n",
    "    train_loss_curve.append(train_running_loss/len(train_loader))\n",
    "    validation_loss_curve.append(\n",
    "        validation_running_loss/len(validation_loader))\n",
    "    \n",
    "    if validation_ap_curve[-1]>max(validation_ap_curve[:-1]):\n",
    "        torch.save(model.module.state_dict(),\"./cnn10.pth\")\n",
    "\n",
    "    print(\"Epoch = %d; Train loss = %.4f; Val loss = %.4f; Train AP = %.4f; Val AP = %.4f\" %\n",
    "          (epoch, train_loss_curve[-1], validation_loss_curve[-1], train_ap_curve[-1], validation_ap_curve[-1]))\n",
    "    \n",
    "validation_ap_curve.pop(0)"
   ]
  },
  {
   "cell_type": "code",
   "execution_count": 20,
   "metadata": {
    "ExecuteTime": {
     "end_time": "2021-03-18T12:54:25.671740Z",
     "start_time": "2021-03-18T12:54:25.641922Z"
    }
   },
   "outputs": [
    {
     "data": {
      "text/plain": [
       "<All keys matched successfully>"
      ]
     },
     "execution_count": 20,
     "metadata": {},
     "output_type": "execute_result"
    }
   ],
   "source": [
    "model.module.load_state_dict(torch.load(\"./cnn10.pth\"))"
   ]
  },
  {
   "cell_type": "code",
   "execution_count": 21,
   "metadata": {
    "ExecuteTime": {
     "end_time": "2021-03-18T12:54:30.830222Z",
     "start_time": "2021-03-18T12:54:30.692589Z"
    }
   },
   "outputs": [
    {
     "data": {
      "image/png": "[encoded data removed]",
      "text/plain": [
       "<Figure size 432x288 with 1 Axes>"
      ]
     },
     "metadata": {
      "needs_background": "light"
     },
     "output_type": "display_data"
    },
    {
     "data": {
      "image/png": "[encoded data removed]",
      "text/plain": [
       "<Figure size 432x288 with 1 Axes>"
      ]
     },
     "metadata": {
      "needs_background": "light"
     },
     "output_type": "display_data"
    }
   ],
   "source": [
    "plt.plot(train_loss_curve)\n",
    "plt.plot(validation_loss_curve)\n",
    "plt.show()\n",
    "plt.plot(train_ap_curve)\n",
    "plt.plot(validation_ap_curve)\n",
    "plt.show()"
   ]
  },
  {
   "cell_type": "code",
   "execution_count": 23,
   "metadata": {
    "ExecuteTime": {
     "end_time": "2021-03-18T12:55:10.240000Z",
     "start_time": "2021-03-18T12:55:10.238358Z"
    }
   },
   "outputs": [],
   "source": [
    "threshold = 0.3"
   ]
  },
  {
   "cell_type": "code",
   "execution_count": 24,
   "metadata": {
    "ExecuteTime": {
     "end_time": "2021-03-18T12:55:19.490753Z",
     "start_time": "2021-03-18T12:55:19.487161Z"
    },
    "scrolled": true
   },
   "outputs": [
    {
     "name": "stdout",
     "output_type": "stream",
     "text": [
      "0.8493 0.991\n"
     ]
    }
   ],
   "source": [
    "model.cpu()\n",
    "model.eval()\n",
    "with torch.no_grad():\n",
    "    true = []\n",
    "    preds = []\n",
    "    for spectrograms, targets in iter(test_loader):\n",
    "        outputs = model.module(spectrograms)\n",
    "\n",
    "        outputs = outputs.transpose(0, 1).detach().cpu().numpy()\n",
    "        targets = targets.transpose(0, 1).cpu().numpy()\n",
    "\n",
    "        true.append(targets)\n",
    "        preds.append(outputs)\n",
    "\n",
    "true = np.concatenate(true, axis=1)\n",
    "preds = np.concatenate(preds, axis=1)\n",
    "score = average_precision_score(true, preds)\n",
    "preds = np.where(preds.ravel() > threshold, 1, 0)\n",
    "print(np.round(score, 4), np.round(accuracy_score(true.ravel(), preds), 4))"
   ]
  },
  {
   "cell_type": "code",
   "execution_count": 25,
   "metadata": {
    "ExecuteTime": {
     "end_time": "2021-03-18T12:55:59.009123Z",
     "start_time": "2021-03-18T12:55:59.007321Z"
    }
   },
   "outputs": [],
   "source": [
    "iterator = iter(test_loader)"
   ]
  },
  {
   "cell_type": "code",
   "execution_count": 71,
   "metadata": {
    "ExecuteTime": {
     "end_time": "2021-03-18T14:18:10.740936Z",
     "start_time": "2021-03-18T14:18:10.571465Z"
    }
   },
   "outputs": [
    {
     "name": "stderr",
     "output_type": "stream",
     "text": [
      "<ipython-input-10-2c70f55b9472>:10: MatplotlibDeprecationWarning: shading='flat' when X and Y have the same dimensions as C is deprecated since 3.3.  Either specify the corners of the quadrilaterals with X and Y, or pass shading='auto', 'nearest' or 'gouraud', or set rcParams['pcolor.shading'].  This will become an error two minor releases later.\n",
      "  plt.pcolormesh(frames, freqs, spectrogram, cmap=cmap)\n"
     ]
    },
    {
     "data": {
      "image/png": "[encoded data removed]",
      "text/plain": [
       "<Figure size 432x288 with 1 Axes>"
      ]
     },
     "metadata": {
      "needs_background": "light"
     },
     "output_type": "display_data"
    },
    {
     "name": "stdout",
     "output_type": "stream",
     "text": [
      "['water_drops']\n"
     ]
    }
   ],
   "source": [
    "with torch.no_grad():\n",
    "    x, y = next(iterator)\n",
    "    plot_spectrogram(x[0][0], y[0], categories)\n",
    "\n",
    "    p = model.module(x)\n",
    "    p = torch.where(p >= threshold, 1, 0)\n",
    "    p = p.detach().numpy()[0]\n",
    "    y = y.numpy()[0]\n",
    "\n",
    "    print(get_category(p, categories))"
   ]
  },
  {
   "cell_type": "code",
   "execution_count": null,
   "metadata": {},
   "outputs": [],
   "source": []
  }
 ],
 "metadata": {
  "kernelspec": {
   "display_name": "Python 3",
   "language": "python",
   "name": "python3"
  },
  "language_info": {
   "codemirror_mode": {
    "name": "ipython",
    "version": 3
   },
   "file_extension": ".py",
   "mimetype": "text/x-python",
   "name": "python",
   "nbconvert_exporter": "python",
   "pygments_lexer": "ipython3",
   "version": "3.8.5"
  },
  "toc": {
   "base_numbering": 1,
   "nav_menu": {},
   "number_sections": true,
   "sideBar": true,
   "skip_h1_title": false,
   "title_cell": "Table of Contents",
   "title_sidebar": "Contents",
   "toc_cell": false,
   "toc_position": {},
   "toc_section_display": true,
   "toc_window_display": false
  },
  "varInspector": {
   "cols": {
    "lenName": 16,
    "lenType": 16,
    "lenVar": 40
   },
   "kernels_config": {
    "python": {
     "delete_cmd_postfix": "",
     "delete_cmd_prefix": "del ",
     "library": "var_list.py",
     "varRefreshCmd": "print(var_dic_list())"
    },
    "r": {
     "delete_cmd_postfix": ") ",
     "delete_cmd_prefix": "rm(",
     "library": "var_list.r",
     "varRefreshCmd": "cat(var_dic_list()) "
    }
   },
   "position": {
    "height": "674.183px",
    "left": "1342.83px",
    "right": "20px",
    "top": "67px",
    "width": "360.167px"
   },
   "types_to_exclude": [
    "module",
    "function",
    "builtin_function_or_method",
    "instance",
    "_Feature"
   ],
   "window_display": false
  }
 },
 "nbformat": 4,
 "nbformat_minor": 4
}
