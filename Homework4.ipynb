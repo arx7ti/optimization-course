{
 "cells": [
  {
   "cell_type": "markdown",
   "metadata": {},
   "source": [
    "# Assignment 4\n",
    "Ilia Kamyshev"
   ]
  },
  {
   "cell_type": "markdown",
   "metadata": {},
   "source": [
    "## Problem 5 "
   ]
  },
  {
   "cell_type": "code",
   "execution_count": 2,
   "metadata": {
    "ExecuteTime": {
     "end_time": "2021-03-03T11:45:00.250578Z",
     "start_time": "2021-03-03T11:45:00.248788Z"
    }
   },
   "outputs": [],
   "source": [
    "import numpy as np\n",
    "import matplotlib.pyplot as plt"
   ]
  },
  {
   "cell_type": "code",
   "execution_count": 21,
   "metadata": {
    "ExecuteTime": {
     "end_time": "2021-03-03T11:52:22.099998Z",
     "start_time": "2021-03-03T11:52:22.098031Z"
    }
   },
   "outputs": [],
   "source": [
    "def objective(x):\n",
    "    return x ** 2 + 1\n",
    "\n",
    "\n",
    "def constraint(x):\n",
    "    return x ** 2 - 6 * x + 8"
   ]
  },
  {
   "cell_type": "code",
   "execution_count": 26,
   "metadata": {
    "ExecuteTime": {
     "end_time": "2021-03-03T12:05:38.461031Z",
     "start_time": "2021-03-03T12:05:38.333787Z"
    }
   },
   "outputs": [
    {
     "name": "stderr",
     "output_type": "stream",
     "text": [
      "No handles with labels found to put in legend.\n"
     ]
    },
    {
     "data": {
      "text/plain": [
       "Text(0, 0.5, '$y$')"
      ]
     },
     "execution_count": 26,
     "metadata": {},
     "output_type": "execute_result"
    },
    {
     "data": {
      "image/png": "[encoded data removed]",
      "text/plain": [
       "<Figure size 432x288 with 1 Axes>"
      ]
     },
     "metadata": {
      "needs_background": "light"
     },
     "output_type": "display_data"
    }
   ],
   "source": [
    "# plot the feasible region\n",
    "ymax = 20\n",
    "d = np.linspace(-5, 5, 300)\n",
    "x, y = np.meshgrid(d, d)\n",
    "plt.imshow(\n",
    "    (y <= constraint(x)).astype(int),\n",
    "    extent=(x.min(), x.max(), y.min(), ymax),\n",
    "    origin=\"lower\",\n",
    "    cmap=\"Greys\",\n",
    "    alpha=0.3,\n",
    ")\n",
    "\n",
    "# Make plot\n",
    "plt.plot(d, objective(d))\n",
    "plt.xlim(d.min(), d.max())\n",
    "plt.ylim(0, ymax)\n",
    "plt.legend(bbox_to_anchor=(1.05, 1), loc=2, borderaxespad=0.0)\n",
    "plt.xlabel(r\"$x$\")\n",
    "plt.ylabel(r\"$y$\")"
   ]
  },
  {
   "cell_type": "code",
   "execution_count": 69,
   "metadata": {
    "ExecuteTime": {
     "end_time": "2021-03-03T16:40:09.563733Z",
     "start_time": "2021-03-03T16:40:09.496067Z"
    }
   },
   "outputs": [
    {
     "data": {
      "image/png": "[encoded data removed]",
      "text/plain": [
       "<Figure size 432x288 with 1 Axes>"
      ]
     },
     "metadata": {
      "needs_background": "light"
     },
     "output_type": "display_data"
    }
   ],
   "source": [
    "sf = 10000 \n",
    "t = np.linspace(0, 1, sf)\n",
    "f = 51\n",
    "y = np.sin(2*np.pi*f*t) + np.sin(2*np.pi*f*t*3) +np.random.randn(len(t)) * 0.01\n",
    "w = np.abs(np.fft.rfft(y))\n",
    "wf = np.fft.rfftfreq(2*len(w), 1/sf)\n",
    "\n",
    "l = 500\n",
    "plt.plot(wf[:l], w[:l])\n",
    "plt.show()"
   ]
  },
  {
   "cell_type": "code",
   "execution_count": null,
   "metadata": {},
   "outputs": [],
   "source": []
  }
 ],
 "metadata": {
  "kernelspec": {
   "display_name": "Python 3",
   "language": "python",
   "name": "python3"
  },
  "language_info": {
   "codemirror_mode": {
    "name": "ipython",
    "version": 3
   },
   "file_extension": ".py",
   "mimetype": "text/x-python",
   "name": "python",
   "nbconvert_exporter": "python",
   "pygments_lexer": "ipython3",
   "version": "3.8.5"
  }
 },
 "nbformat": 4,
 "nbformat_minor": 4
}
